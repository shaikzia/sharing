{
 "cells": [
  {
   "cell_type": "markdown",
   "metadata": {},
   "source": [
    "#### Q1) Given a list, url = [www.annauniv.edu, www.google.com, www.ndtv.com, www.website.org, www.bis.org.in, www.rbi.org.in]; Sort the list based on the top level domain (edu, com, org, in) using custom sorting"
   ]
  },
  {
   "cell_type": "code",
   "execution_count": 111,
   "metadata": {},
   "outputs": [
    {
     "name": "stdout",
     "output_type": "stream",
     "text": [
      "['www.google.com', 'www.ndtv.com', 'www.annauniv.edu', 'www.website.org', 'www.bis.org.in', 'www.rbi.org.in']\n"
     ]
    }
   ],
   "source": [
    "import tldextract\n",
    "import operator \n",
    "\n",
    "keys = []\n",
    "values = []\n",
    "url = ['www.annauniv.edu', 'www.google.com', 'www.ndtv.com', 'www.website.org', 'www.bis.org.in', 'www.rbi.org.in']\n",
    "for u in url:\n",
    "    extracted_domain = tldextract.extract(u)\n",
    "    k = extracted_domain.domain\n",
    "    v = extracted_domain.suffix\n",
    "    k = 'www.' + k\n",
    "    keys.append(k)\n",
    "    values.append(v)\n",
    "\n",
    "dic = dict(zip(keys,values))\n",
    "sorted_dic = sorted(dic.items(), key=operator.itemgetter(1))\n",
    "print([str('.'.join(str(i) for i in x)) for x in sorted_dic])"
   ]
  },
  {
   "cell_type": "markdown",
   "metadata": {},
   "source": [
    "#### Q2) Given a list of strings, return the count of the number of strings where the string length is 2 or more and the first and last chars of the string are the same.  "
   ]
  },
  {
   "cell_type": "code",
   "execution_count": 128,
   "metadata": {},
   "outputs": [],
   "source": [
    "def count_strings(l):\n",
    "    new_l = []\n",
    "    for i in l:\n",
    "        if len(i) >= 2 and i[0] == i[-1]:\n",
    "            new_l.append(i)\n",
    "    return len(new_l)\n"
   ]
  },
  {
   "cell_type": "code",
   "execution_count": 129,
   "metadata": {},
   "outputs": [
    {
     "data": {
      "text/plain": [
       "3"
      ]
     },
     "execution_count": 129,
     "metadata": {},
     "output_type": "execute_result"
    }
   ],
   "source": [
    "count_strings(['axa', 'xyz', 'gg', 'x', 'yyy'])"
   ]
  },
  {
   "cell_type": "code",
   "execution_count": 130,
   "metadata": {},
   "outputs": [
    {
     "data": {
      "text/plain": [
       "2"
      ]
     },
     "execution_count": 130,
     "metadata": {},
     "output_type": "execute_result"
    }
   ],
   "source": [
    "count_strings(['x', 'cd', 'cnc', 'kk'])"
   ]
  },
  {
   "cell_type": "code",
   "execution_count": 131,
   "metadata": {},
   "outputs": [
    {
     "data": {
      "text/plain": [
       "1"
      ]
     },
     "execution_count": 131,
     "metadata": {},
     "output_type": "execute_result"
    }
   ],
   "source": [
    "count_strings(['bab', 'ce', 'cba', 'syanora'])"
   ]
  },
  {
   "cell_type": "markdown",
   "metadata": {},
   "source": [
    "#### Q3) Given a list of strings, return a list with the strings in sorted order, except group all the strings that begin with 'x' first.  e.g. ['mix', 'xyz', 'apple', 'xanadu', 'aardvark'] yields\n",
    "['xanadu', 'xyz', 'aardvark', 'apple', 'mix']. "
   ]
  },
  {
   "cell_type": "code",
   "execution_count": 57,
   "metadata": {},
   "outputs": [],
   "source": [
    "def sort_list(l):\n",
    "    l1 = []\n",
    "    l2 = []\n",
    "    l3 = []\n",
    "    for i in l:\n",
    "        if i[0] == 'x':\n",
    "            l1.append(i)\n",
    "            l1.sort()\n",
    "        else:\n",
    "            l2.append(i)\n",
    "            l2.sort()\n",
    "    l3 = l1 + l2\n",
    "    return l3"
   ]
  },
  {
   "cell_type": "code",
   "execution_count": 58,
   "metadata": {},
   "outputs": [
    {
     "data": {
      "text/plain": [
       "['xanadu', 'xyz', 'aadvark', 'apple', 'mix']"
      ]
     },
     "execution_count": 58,
     "metadata": {},
     "output_type": "execute_result"
    }
   ],
   "source": [
    "sort_list(['mix', 'xyz', 'apple', 'xanadu', 'aadvark'])"
   ]
  },
  {
   "cell_type": "code",
   "execution_count": 59,
   "metadata": {},
   "outputs": [
    {
     "data": {
      "text/plain": [
       "['xaa', 'xzz', 'axx', 'bbb', 'ccc']"
      ]
     },
     "execution_count": 59,
     "metadata": {},
     "output_type": "execute_result"
    }
   ],
   "source": [
    "sort_list(['bbb', 'ccc', 'axx', 'xzz', 'xaa'])"
   ]
  },
  {
   "cell_type": "markdown",
   "metadata": {},
   "source": [
    "#### Q4) Given a list of non-empty tuples, return a list sorted in increasing order by the last element in each tuple. "
   ]
  },
  {
   "cell_type": "code",
   "execution_count": 98,
   "metadata": {},
   "outputs": [],
   "source": [
    "def sort_tuple(t):\n",
    "    return sorted(t, key=lambda x: x[-1])"
   ]
  },
  {
   "cell_type": "code",
   "execution_count": 101,
   "metadata": {},
   "outputs": [
    {
     "data": {
      "text/plain": [
       "[(2, 1), (3, 2), (1, 3)]"
      ]
     },
     "execution_count": 101,
     "metadata": {},
     "output_type": "execute_result"
    }
   ],
   "source": [
    "sort_tuple([(1,3), (3,2), (2,1)])"
   ]
  },
  {
   "cell_type": "code",
   "execution_count": 102,
   "metadata": {},
   "outputs": [
    {
     "data": {
      "text/plain": [
       "[(2, 2), (1, 3), (3, 4, 5), (1, 7)]"
      ]
     },
     "execution_count": 102,
     "metadata": {},
     "output_type": "execute_result"
    }
   ],
   "source": [
    "sort_tuple([(1,7),(1,3),(3,4,5),(2,2)])"
   ]
  },
  {
   "cell_type": "markdown",
   "metadata": {},
   "source": [
    "#### Q5) Given a list of numbers, return a list where all adjacent == elements have been reduced to a single element, so [1, 2, 2, 3] returns [1, 2, 3]. You may create a new list or modify the passed in list."
   ]
  },
  {
   "cell_type": "code",
   "execution_count": 120,
   "metadata": {},
   "outputs": [],
   "source": [
    "from itertools import groupby\n",
    "def remove_adj(l):\n",
    "    return [x[0] for x in groupby(l)]\n"
   ]
  },
  {
   "cell_type": "code",
   "execution_count": 121,
   "metadata": {},
   "outputs": [
    {
     "data": {
      "text/plain": [
       "[1, 2, 3]"
      ]
     },
     "execution_count": 121,
     "metadata": {},
     "output_type": "execute_result"
    }
   ],
   "source": [
    "l = [1,2,2,3]\n",
    "remove_adj(l)"
   ]
  },
  {
   "cell_type": "code",
   "execution_count": 122,
   "metadata": {},
   "outputs": [
    {
     "data": {
      "text/plain": [
       "[2, 3]"
      ]
     },
     "execution_count": 122,
     "metadata": {},
     "output_type": "execute_result"
    }
   ],
   "source": [
    "l = [2,2,3,3,3]\n",
    "remove_adj(l)"
   ]
  },
  {
   "cell_type": "code",
   "execution_count": 123,
   "metadata": {},
   "outputs": [
    {
     "data": {
      "text/plain": [
       "[1, 2, 1, 3, 4, 5, 2, 4]"
      ]
     },
     "execution_count": 123,
     "metadata": {},
     "output_type": "execute_result"
    }
   ],
   "source": [
    "l = [1,2,1,3,3,4,5,5,2,4]\n",
    "remove_adj(l)"
   ]
  },
  {
   "cell_type": "markdown",
   "metadata": {},
   "source": [
    "#### Q6) Write a function to print the information in the dictionary(bookstore) in the given format\n",
    "#### bookstore={\"New Arrivals\":{\"COOKING\":[\"Everyday Italian\",\"Giada De Laurentiis\",\"2005\",\"30.00\"],\"CHILDREN\":[\"Harry Potter”, J K. Rowling\",\"2005\",\"29.99\"],\"WEB\":[\"Learning XML\",\"Erik T. Ray\",\"2003\",\"39.95\"]}}\n",
    "\n",
    "#### BOOKSTORE\n",
    "\n",
    "#### ['Learning XML', 'Erik T. Ray', '2003', '39.95' ]\n",
    "#### ['Everyday Italian', 'Giada De Laurent is', '2005', '30.00']\n",
    "#### ['Harry Potter', 'J K. Rowling', '2005', '29.99']"
   ]
  },
  {
   "cell_type": "code",
   "execution_count": 577,
   "metadata": {},
   "outputs": [],
   "source": [
    "def print_info(d):\n",
    "    print(\"\\nBOOKSTORE\\n\")\n",
    "    for v1 in d.values():\n",
    "        for v2 in v1.values():\n",
    "            strn=str(v2)\n",
    "            print(strn)"
   ]
  },
  {
   "cell_type": "code",
   "execution_count": 578,
   "metadata": {},
   "outputs": [
    {
     "name": "stdout",
     "output_type": "stream",
     "text": [
      "\n",
      "BOOKSTORE\n",
      "\n",
      "['Everyday Italian', 'Giada De Laurentis', '2005', '30.00']\n",
      "['Harry Potter', 'J.K Rowling', '2005', '29.99']\n",
      "['Learning XML', 'Erik T.Ray', '2003', '39.95']\n"
     ]
    }
   ],
   "source": [
    "bookstore = {\"New Arrivals\":{\"COOKING\":[\"Everyday Italian\", \"Giada De Laurentis\", \"2005\", \"30.00\"],\n",
    "                             \"CHILDREN\":[\"Harry Potter\", \"J.K Rowling\", \"2005\", \"29.99\"],\n",
    "                             \"WEB\":[\"Learning XML\", \"Erik T.Ray\", \"2003\", \"39.95\"]\n",
    "                            }\n",
    "            }\n",
    "print_info(bookstore)"
   ]
  },
  {
   "cell_type": "markdown",
   "metadata": {},
   "source": [
    "#### Q7) Given a string, str1=\"\"”Python is a widely used high-level programming language for general-purpose programming, created by Guido van Rossum and first released in 1991. An interpreted language, Python has a design philosophy which emphasizes code readability (notably using whitespace indentation to delimit code blocks rather than curly braces or keywords), and a syntax which allows programmers to express concepts in fewer lines of code than possible in languages such as C++ or Java. The language provides constructs intended to enable writing clear programs on both a small and large scale .Python features a dynamic type system and automatic memory management and supports multiple programming paradigms, including object-oriented, imperative, functional programming, and procedural styles. It has a large and comprehensive standard library. Python interpreters are available for many operating systems, allowing Python code to run on a wide variety of systems. CPython, the reference implementation of Python, is open source software and has a community-based development model, as do nearly all of its variant implementations. CPython is managed by the non-profit Python Software Foundation.\"\"\"\n",
    "#### a. Build a dictionary, with \"words as key\" --> Frequency of occurrence as value\n",
    "        E.g. Python --> 7, is --> 3 \n",
    "#### b. Print the top 5 words with their frequency of occurrence"
   ]
  },
  {
   "cell_type": "code",
   "execution_count": 296,
   "metadata": {},
   "outputs": [],
   "source": [
    "def word_dict(string):\n",
    "    words = string.split()\n",
    "    special_chars = \".,-_*\\( !#+<>]|)\"\n",
    "    wordfreq = {}\n",
    "    for raw_word in words:\n",
    "        word = raw_word.strip(special_chars)\n",
    "        if word not in wordfreq:\n",
    "            wordfreq[word] = 0 \n",
    "        wordfreq[word] += 1\n",
    "    \n",
    "    top5 = sorted(wordfreq.items(), key=lambda x: x[1],reverse=True)[:5]\n",
    "    top5 = dict(top5)\n",
    "    \n",
    "    return wordfreq, top5"
   ]
  },
  {
   "cell_type": "code",
   "execution_count": 570,
   "metadata": {},
   "outputs": [
    {
     "data": {
      "text/plain": [
       "({'Python': 7,\n",
       "  'is': 3,\n",
       "  'a': 8,\n",
       "  'widely': 1,\n",
       "  'used': 1,\n",
       "  'high-level': 1,\n",
       "  'programming': 4,\n",
       "  'language': 3,\n",
       "  'for': 2,\n",
       "  'general-purpose': 1,\n",
       "  'created': 1,\n",
       "  'by': 2,\n",
       "  'Guido': 1,\n",
       "  'van': 1,\n",
       "  'Rossum': 1,\n",
       "  'and': 8,\n",
       "  'first': 1,\n",
       "  'released': 1,\n",
       "  'in': 3,\n",
       "  '1991': 1,\n",
       "  'An': 1,\n",
       "  'interpreted': 1,\n",
       "  'has': 3,\n",
       "  'design': 1,\n",
       "  'philosophy': 1,\n",
       "  'which': 2,\n",
       "  'emphasizes': 1,\n",
       "  'code': 4,\n",
       "  'readability': 1,\n",
       "  'notably': 1,\n",
       "  'using': 1,\n",
       "  'whitespace': 1,\n",
       "  'indentation': 1,\n",
       "  'to': 4,\n",
       "  'delimit': 1,\n",
       "  'blocks': 1,\n",
       "  'rather': 1,\n",
       "  'than': 2,\n",
       "  'curly': 1,\n",
       "  'braces': 1,\n",
       "  'or': 2,\n",
       "  'keywords': 1,\n",
       "  'syntax': 1,\n",
       "  'allows': 1,\n",
       "  'programmers': 1,\n",
       "  'express': 1,\n",
       "  'concepts': 1,\n",
       "  'fewer': 1,\n",
       "  'lines': 1,\n",
       "  'of': 4,\n",
       "  'possible': 1,\n",
       "  'languages': 1,\n",
       "  'such': 1,\n",
       "  'as': 2,\n",
       "  'C': 1,\n",
       "  'Java': 1,\n",
       "  'The': 1,\n",
       "  'provides': 1,\n",
       "  'constructs': 1,\n",
       "  'intended': 1,\n",
       "  'enable': 1,\n",
       "  'writing': 1,\n",
       "  'clear': 1,\n",
       "  'programs': 1,\n",
       "  'on': 2,\n",
       "  'both': 1,\n",
       "  'small': 1,\n",
       "  'large': 2,\n",
       "  'scale': 1,\n",
       "  'features': 1,\n",
       "  'dynamic': 1,\n",
       "  'type': 1,\n",
       "  'system': 1,\n",
       "  'automatic': 1,\n",
       "  'memory': 1,\n",
       "  'management': 1,\n",
       "  'supports': 1,\n",
       "  'multiple': 1,\n",
       "  'paradigms': 1,\n",
       "  'including': 1,\n",
       "  'object-oriented': 1,\n",
       "  'imperative': 1,\n",
       "  'functional': 1,\n",
       "  'procedural': 1,\n",
       "  'styles': 1,\n",
       "  'It': 1,\n",
       "  'comprehensive': 1,\n",
       "  'standard': 1,\n",
       "  'library': 1,\n",
       "  'interpreters': 1,\n",
       "  'are': 1,\n",
       "  'available': 1,\n",
       "  'many': 1,\n",
       "  'operating': 1,\n",
       "  'systems': 2,\n",
       "  'allowing': 1,\n",
       "  'run': 1,\n",
       "  'wide': 1,\n",
       "  'variety': 1,\n",
       "  'CPython': 2,\n",
       "  'the': 2,\n",
       "  'reference': 1,\n",
       "  'implementation': 1,\n",
       "  'open': 1,\n",
       "  'source': 1,\n",
       "  'software': 1,\n",
       "  'community-based': 1,\n",
       "  'development': 1,\n",
       "  'model': 1,\n",
       "  'do': 1,\n",
       "  'nearly': 1,\n",
       "  'all': 1,\n",
       "  'its': 1,\n",
       "  'variant': 1,\n",
       "  'implementations': 1,\n",
       "  'managed': 1,\n",
       "  'non-profit': 1,\n",
       "  'Software': 1,\n",
       "  'Foundation': 1},\n",
       " {'a': 8, 'and': 8, 'Python': 7, 'programming': 4, 'code': 4})"
      ]
     },
     "execution_count": 570,
     "metadata": {},
     "output_type": "execute_result"
    }
   ],
   "source": [
    "str7 = \"\"\"Python is a widely used high-level programming language for general-purpose programming, created by Guido van Rossum and first released in 1991. An interpreted language, Python has a design philosophy which emphasizes code readability (notably using whitespace indentation to delimit code blocks rather than curly braces or keywords), and a syntax which allows programmers to express concepts in fewer lines of code than possible in languages such as C++ or Java. The language provides constructs intended to enable writing clear programs on both a small and large scale .Python features a dynamic type system and automatic memory management and supports multiple programming paradigms, including object-oriented, imperative, functional programming, and procedural styles. It has a large and comprehensive standard library. Python interpreters are available for many operating systems, allowing Python code to run on a wide variety of systems. CPython, the reference implementation of Python, is open source software and has a community-based development model, as do nearly all of its variant implementations. CPython is managed by the non-profit Python Software Foundation.\"\"\"\n",
    "word_dict(str7)"
   ]
  },
  {
   "cell_type": "markdown",
   "metadata": {},
   "source": [
    "#### Q8) Given a string, str1=\"\"”Python is a widely used high-level programming language for general-purpose programming, created by Guido van Rossum and first released in 1991. An interpreted language, Python has a design philosophy which emphasizes code readability (notably using whitespace indentation to delimit code blocks rather than curly braces or keywords), and a syntax which allows programmers to express concepts in fewer lines of code than possible in languages such as C++ or Java. The language provides constructs intended to enable writing clear programs on both a small and large scale .Python features a dynamic type system and automatic memory management and supports multiple programming paradigms, including object-oriented, imperative, functional programming, and procedural styles. It has a large and comprehensive standard library. Python interpreters are available for many operating systems, allowing Python code to run on a wide variety of systems. CPython, the reference implementation of Python, is open source software and has a community-based development model, as do nearly all of its variant implementations. CPython is managed by the non-profit Python Software Foundation.\"\"\"\n",
    "Hint:  Assume that the first word is preceded by \" \"\n",
    "\n",
    "#### a. Build a dictionary where the key is a word and the value is the list of words that are likely to follow.\n",
    "E.g. Python--> [is, has, features, interpreters, code, Software]. In this example the words listed are likely to follow “Python”\n",
    "#### b. Given a word predict the word that’s likely to follow."
   ]
  },
  {
   "cell_type": "code",
   "execution_count": 572,
   "metadata": {},
   "outputs": [],
   "source": [
    "\n",
    "def next_word(givenword):\n",
    "    str8 = \"\"\"Python is a widely used high-level programming language for general-purpose programming, created by Guido van Rossum and first released in 1991. An interpreted language, Python has a design philosophy which emphasizes code readability (notably using whitespace indentation to delimit code blocks rather than curly braces or keywords), and a syntax which allows programmers to express concepts in fewer lines of code than possible in languages such as C++ or Java. The language provides constructs intended to enable writing clear programs on both a small and large scale. Python features a dynamic type system and automatic memory management and supports multiple programming paradigms, including object-oriented, imperative, functional programming, and procedural styles. It has a large and comprehensive standard library. Python interpreters are available for many operating systems, allowing Python code to run on a wide variety of systems. CPython, the reference implementation of Python, is open source software and has a community-based development model, as do nearly all of its variant implementations. CPython is managed by the non-profit Python Software Foundation.\"\"\"\n",
    "    words = str8.split()\n",
    "    new_list = []\n",
    "    next_words = []\n",
    "    words_list = []\n",
    "    key_list = []\n",
    "    special_chars = \".,-_*\\( !#+<>]|)\"\n",
    "\n",
    "    for word in words:\n",
    "        word = word.strip(special_chars)\n",
    "        new_list.append(word)\n",
    "    \n",
    "    for i,w in enumerate(new_list):\n",
    "        if w == givenword:\n",
    "            next_words.append(words[i+1])\n",
    "            words_list.append(next_words)\n",
    "\n",
    "    key_list.append(givenword)\n",
    "    dic_words = dict(zip(key_list, words_list))\n",
    "    return dic_words\n"
   ]
  },
  {
   "cell_type": "code",
   "execution_count": 573,
   "metadata": {},
   "outputs": [
    {
     "data": {
      "text/plain": [
       "{'Python': ['is', 'has', 'features', 'interpreters', 'code', 'is', 'Software']}"
      ]
     },
     "execution_count": 573,
     "metadata": {},
     "output_type": "execute_result"
    }
   ],
   "source": [
    "next_word(\"Python\")"
   ]
  },
  {
   "cell_type": "code",
   "execution_count": 574,
   "metadata": {},
   "outputs": [
    {
     "data": {
      "text/plain": [
       "{'programming': ['language', 'created', 'paradigms,', 'and']}"
      ]
     },
     "execution_count": 574,
     "metadata": {},
     "output_type": "execute_result"
    }
   ],
   "source": [
    "next_word('programming')"
   ]
  },
  {
   "cell_type": "markdown",
   "metadata": {},
   "source": [
    "### Second Method "
   ]
  },
  {
   "cell_type": "code",
   "execution_count": 576,
   "metadata": {},
   "outputs": [
    {
     "name": "stdout",
     "output_type": "stream",
     "text": [
      "{'Python': ['is', 'has', 'features', 'interpreters', 'code', 'Software'], 'is': ['a', 'open', 'managed'], 'a': ['widely', 'design', 'syntax', 'small', 'dynamic', 'large', 'wide', 'community-based'], 'widely': ['used'], 'used': ['high-level'], 'high-level': ['programming'], 'programming': ['language', 'paradigms,'], 'language': ['for', 'provides'], 'for': ['general-purpose', 'many'], 'general-purpose': ['programming,'], 'programming,': ['created', 'and'], 'created': ['by'], 'by': ['Guido', 'the'], 'Guido': ['van'], 'van': ['Rossum'], 'Rossum': ['and'], 'and': ['first', 'a', 'large', 'automatic', 'supports', 'procedural', 'comprehensive', 'has'], 'first': ['released'], 'released': ['in'], 'in': ['1991.', 'fewer', 'languages'], '1991.': ['An'], 'An': ['interpreted'], 'interpreted': ['language,'], 'language,': ['Python'], 'has': ['a', 'a', 'a'], 'design': ['philosophy'], 'philosophy': ['which'], 'which': ['emphasizes', 'allows'], 'emphasizes': ['code'], 'code': ['readability', 'blocks', 'than', 'to'], 'readability': ['(notably'], '(notably': ['using'], 'using': ['whitespace'], 'whitespace': ['indentation'], 'indentation': ['to'], 'to': ['delimit', 'express', 'enable', 'run'], 'delimit': ['code'], 'blocks': ['rather'], 'rather': ['than'], 'than': ['curly', 'possible'], 'curly': ['braces'], 'braces': ['or'], 'or': ['keywords', 'Java.'], 'keywords': [','], ',': ['and'], 'syntax': ['which'], 'allows': ['programmers'], 'programmers': ['to'], 'express': ['concepts'], 'concepts': ['in'], 'fewer': ['lines'], 'lines': ['of'], 'of': ['code', 'systems.', 'Python,', 'its'], 'possible': ['in'], 'languages': ['such'], 'such': ['as'], 'as': ['C++', 'do'], 'C++': ['or'], 'Java.': ['The'], 'The': ['language'], 'provides': ['constructs'], 'constructs': ['intended'], 'intended': ['to'], 'enable': ['writing'], 'writing': ['clear'], 'clear': ['programs'], 'programs': ['on'], 'on': ['both', 'a'], 'both': ['a'], 'small': ['and'], 'large': ['scale.', 'and'], 'scale.': ['Python'], 'features': ['a'], 'dynamic': ['type'], 'type': ['system'], 'system': ['and'], 'automatic': ['memory'], 'memory': ['management'], 'management': ['and'], 'supports': ['multiple'], 'multiple': ['programming'], 'paradigms,': ['including'], 'including': ['object-oriented,'], 'object-oriented,': ['imperative,'], 'imperative,': ['functional'], 'functional': ['programming,'], 'procedural': ['styles.'], 'styles.': ['It'], 'It': ['has'], 'comprehensive': ['standard'], 'standard': ['library.'], 'library.': ['Python'], 'interpreters': ['are'], 'are': ['available'], 'available': ['for'], 'many': ['operating'], 'operating': ['systems,'], 'systems,': ['allowing'], 'allowing': ['Python'], 'run': ['on'], 'wide': ['variety'], 'variety': ['of'], 'systems.': ['CPython,'], 'CPython,': ['the'], 'the': ['reference', 'non-profit'], 'reference': ['implementation'], 'implementation': ['of'], 'Python,': ['is'], 'open': ['source'], 'source': ['software'], 'software': ['and'], 'community-based': ['development'], 'development': ['model,'], 'model,': ['as'], 'do': ['nearly'], 'nearly': ['all'], 'all': ['of'], 'its': ['variant'], 'variant': ['implementations.'], 'implementations.': ['CPython'], 'CPython': ['is'], 'managed': ['by'], 'non-profit': ['Python'], 'Software': ['Foundation.'], 'Foundation.': []}\n"
     ]
    }
   ],
   "source": [
    "str8 = \"\"\"Python is a widely used high-level programming language for general-purpose programming, created by Guido van Rossum and first released in 1991. An interpreted language, Python has a design philosophy which emphasizes code readability (notably using whitespace indentation to delimit code blocks rather than curly braces or keywords), and a syntax which allows programmers to express concepts in fewer lines of code than possible in languages such as C++ or Java. The language provides constructs intended to enable writing clear programs on both a small and large scale. Python features a dynamic type system and automatic memory management and supports multiple programming paradigms, including object-oriented, imperative, functional programming, and procedural styles. It has a large and comprehensive standard library. Python interpreters are available for many operating systems, allowing Python code to run on a wide variety of systems. CPython, the reference implementation of Python, is open source software and has a community-based development model, as do nearly all of its variant implementations. CPython is managed by the non-profit Python Software Foundation.\"\"\"\n",
    "# remove special characters\n",
    "for special in \".,-_*\\(!#+<>]|)\":\n",
    "    s = str8.replace(special, ' ')\n",
    "    \n",
    "result = {}\n",
    "words = s.split()\n",
    "# only iterate until length - 1 because the last word in each \n",
    "# sentence has no next word.\n",
    "for i in range(len(words) - 1):\n",
    "    result.setdefault(words[i], []).append(words[i+1])\n",
    "result.setdefault(words[-1], [])\n",
    "\n",
    "print(result)"
   ]
  },
  {
   "cell_type": "markdown",
   "metadata": {},
   "source": [
    "#### Q9) Below is the output of # show ip interface brief command on a router\n",
    "\n",
    "#### Interface\t\tIP-Address\tOK? \tMethod Status\tProtocol\n",
    "#### FastEthernet0/0\t192.168.1.242\tYES \tmanual up\tup \n",
    "#### FastEthernet1/0        unassigned\tYES \tunset\t\tdown \n",
    "#### Serial2/0              \t192.168.1.250\tYES \tmanual up\tup \n",
    "#### Serial3/0              \t192.168.1.233\tYES \tmanual up\tup \n",
    "#### FastEthernet4/0        unassigned\tYES \tunset  \t\tdown\t\n",
    "#### FastEthernet5/0        unassigned\tYES        unset \t\tdown\n",
    "\n",
    "        a. Use regular expressions to extract and display Interface and method status for all the interfaces.\n",
    "            i. E.g.  FastEthernet0/0, manual up\n"
   ]
  },
  {
   "cell_type": "code",
   "execution_count": 563,
   "metadata": {},
   "outputs": [
    {
     "name": "stdout",
     "output_type": "stream",
     "text": [
      "FastEthernet0/0 , manual up\n",
      "FastEthernet1/0 , unset\n",
      "Serial2/0 , manual up\n",
      "Serial3/0 , manual up\n",
      "FastEthernet4/0 , unset\n",
      "FastEthernet5/0 , unset\n"
     ]
    }
   ],
   "source": [
    "import re\n",
    "\n",
    "str9 =\"\"\"Interface\t\tIP-Address\tOK? \tMethod Status\tProtocol\n",
    " \n",
    "FastEthernet0/0\t192.168.1.242\tYES \tmanual up\tup \n",
    "FastEthernet1/0        unassigned\tYES \tunset\t\tdown \n",
    "Serial2/0              \t192.168.1.250\tYES \tmanual up\tup \n",
    "Serial3/0              \t192.168.1.233\tYES \tmanual up\tup \n",
    "FastEthernet4/0        unassigned\tYES \tunset  \t\tdown\t\n",
    "FastEthernet5/0        unassigned\tYES        unset \t\tdown\"\"\"\n",
    "\n",
    "for line in str9.splitlines():\n",
    "    matchObj = re.match( r'(\\w+\\d\\/\\d)\\s+[.0-9a-z]+\\s+\\w+\\s+(\\w+\\s?\\w+?)\\s+\\w+', line, re.M|re.I)\n",
    "    if matchObj:\n",
    "        print(matchObj.group(1),\",\",matchObj.group(2))\n",
    "        \n"
   ]
  },
  {
   "cell_type": "markdown",
   "metadata": {},
   "source": [
    "#### Q10) Given a number line from -infinity to +infinity. You start at 0 and can go either to the left or to the right. The condition is that in i’th move, you take i steps. In the first move take 1 step, second move 2 steps and so on.\n",
    "Hint: 3 can be reached in 2 steps (0, 1) (1, 3). 2 can be reached in 3 steps (0, 1) (1,-1) (-1, 2)\n",
    "\n",
    "a) Find the optimal number of steps to reach position 1000000000 and -1000000000. \n"
   ]
  },
  {
   "cell_type": "code",
   "execution_count": 528,
   "metadata": {},
   "outputs": [],
   "source": [
    "def reachTarget(position) : \n",
    "  \n",
    "    position = abs(position) \n",
    "      \n",
    "    # Keep moving while sum is  \n",
    "    # smaller or difference is odd. \n",
    "    sum = 0\n",
    "    step = 0\n",
    "    while (sum < position or (sum - position) % \n",
    "                                  2 != 0) : \n",
    "        step = step + 1\n",
    "        sum = sum + step \n",
    "      \n",
    "    return step "
   ]
  },
  {
   "cell_type": "code",
   "execution_count": 538,
   "metadata": {},
   "outputs": [
    {
     "data": {
      "text/plain": [
       "44723"
      ]
     },
     "execution_count": 538,
     "metadata": {},
     "output_type": "execute_result"
    }
   ],
   "source": [
    "reachTarget(1000000000)"
   ]
  },
  {
   "cell_type": "code",
   "execution_count": 540,
   "metadata": {},
   "outputs": [
    {
     "data": {
      "text/plain": [
       "44723"
      ]
     },
     "execution_count": 540,
     "metadata": {},
     "output_type": "execute_result"
    }
   ],
   "source": [
    "reachTarget(-1000000000)"
   ]
  }
 ],
 "metadata": {
  "kernelspec": {
   "display_name": "Python 3",
   "language": "python",
   "name": "python3"
  },
  "language_info": {
   "codemirror_mode": {
    "name": "ipython",
    "version": 3
   },
   "file_extension": ".py",
   "mimetype": "text/x-python",
   "name": "python",
   "nbconvert_exporter": "python",
   "pygments_lexer": "ipython3",
   "version": "3.6.5"
  }
 },
 "nbformat": 4,
 "nbformat_minor": 2
}
